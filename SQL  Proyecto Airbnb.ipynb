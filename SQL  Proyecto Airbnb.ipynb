{
 "cells": [
  {
   "cell_type": "markdown",
   "id": "0d94fcea",
   "metadata": {},
   "source": [
    "# CREAR TABLAS EN SQL"
   ]
  },
  {
   "cell_type": "code",
   "execution_count": null,
   "id": "113a9c42",
   "metadata": {},
   "outputs": [],
   "source": [
    "# Importamos las librerías necesarias para poder hacer queries en Python\n",
    "import sqlite3\n",
    "# importamos la librería pandas para visualizar la salida\n",
    "import pandas as pd"
   ]
  },
  {
   "cell_type": "code",
   "execution_count": 2,
   "id": "36b4713b",
   "metadata": {},
   "outputs": [
    {
     "name": "stdout",
     "output_type": "stream",
     "text": [
      "Opened database successfully\n",
      "Table created successfully\n"
     ]
    }
   ],
   "source": [
    "# Nos conectamos a una db de sqlite3\n",
    "conn = sqlite3.connect('airbnb.db')\n",
    "print(\"Opened database successfully\");\n",
    "\n",
    " #Aquí podemos escribir la\n",
    "conn.execute('''-----''')\n",
    "\n",
    "conn.commit()\n",
    "\n",
    "print(\"Table created successfully\");"
   ]
  },
  {
   "cell_type": "markdown",
   "id": "d40c7625",
   "metadata": {},
   "source": [
    "CREATE TABLE"
   ]
  },
  {
   "cell_type": "code",
   "execution_count": 4,
   "id": "918e39bb",
   "metadata": {},
   "outputs": [],
   "source": [
    "# cada vez que queremos hacer una query se comienza con conn.execute\n",
    "conn.execute('''\n",
    "CREATE TABLE airbnb_listings(\n",
    "\tid INT AUTO_INCREMENT UNIQUE PRIMARY KEY,\n",
    "\tcity VARCHAR(255) NOT NULL,\n",
    "  country VARCHAR(255) NOT NULL,\n",
    "  number_of_rooms INT NOT NULL,\n",
    "\tcreated_at INT NOT NULL\n",
    ");''')\n",
    "\n",
    "conn.commit()"
   ]
  },
  {
   "cell_type": "markdown",
   "id": "6ee4d343",
   "metadata": {},
   "source": [
    "INSERT DATA"
   ]
  },
  {
   "cell_type": "code",
   "execution_count": 5,
   "id": "f4632df1",
   "metadata": {},
   "outputs": [],
   "source": [
    "# cada vez que queremos hacer una query se comienza con conn.execute\n",
    "conn.execute('''\n",
    "INSERT INTO airbnb_listings(id, city, country, number_of_rooms, created_at)\n",
    "VALUES(1, 'París', 'Francia', 5, 2018),\n",
    "      (2, 'Tokio', 'Japón', 2, 2017),\n",
    "      (3, 'Nueva York', 'USA', 2, 2022),\n",
    "      (4, 'Madrid', 'España', 3, 2022);''')\n",
    "conn.commit()"
   ]
  },
  {
   "cell_type": "markdown",
   "id": "39d32722",
   "metadata": {},
   "source": [
    "DROP TABLE"
   ]
  },
  {
   "cell_type": "code",
   "execution_count": 7,
   "id": "0fad5be3",
   "metadata": {},
   "outputs": [],
   "source": [
    "# conn.execute('''\n",
    "# DROP TABLE airbnb_listings;\n",
    "# ''')\n",
    "# conn.commit()"
   ]
  },
  {
   "cell_type": "markdown",
   "id": "4a15540e",
   "metadata": {},
   "source": [
    "QUERY SQL"
   ]
  },
  {
   "cell_type": "markdown",
   "id": "25fa9f4d",
   "metadata": {},
   "source": [
    "SELECT*FROM"
   ]
  },
  {
   "cell_type": "code",
   "execution_count": 9,
   "id": "b98eebd3",
   "metadata": {},
   "outputs": [
    {
     "data": {
      "text/html": [
       "<div>\n",
       "<style scoped>\n",
       "    .dataframe tbody tr th:only-of-type {\n",
       "        vertical-align: middle;\n",
       "    }\n",
       "\n",
       "    .dataframe tbody tr th {\n",
       "        vertical-align: top;\n",
       "    }\n",
       "\n",
       "    .dataframe thead th {\n",
       "        text-align: right;\n",
       "    }\n",
       "</style>\n",
       "<table border=\"1\" class=\"dataframe\">\n",
       "  <thead>\n",
       "    <tr style=\"text-align: right;\">\n",
       "      <th></th>\n",
       "      <th>country</th>\n",
       "    </tr>\n",
       "  </thead>\n",
       "  <tbody>\n",
       "    <tr>\n",
       "      <th>0</th>\n",
       "      <td>Francia</td>\n",
       "    </tr>\n",
       "    <tr>\n",
       "      <th>1</th>\n",
       "      <td>Japón</td>\n",
       "    </tr>\n",
       "    <tr>\n",
       "      <th>2</th>\n",
       "      <td>USA</td>\n",
       "    </tr>\n",
       "    <tr>\n",
       "      <th>3</th>\n",
       "      <td>España</td>\n",
       "    </tr>\n",
       "  </tbody>\n",
       "</table>\n",
       "</div>"
      ],
      "text/plain": [
       "   country\n",
       "0  Francia\n",
       "1    Japón\n",
       "2      USA\n",
       "3   España"
      ]
     },
     "execution_count": 9,
     "metadata": {},
     "output_type": "execute_result"
    }
   ],
   "source": [
    "# creamos la query y la guardamos en la variable qry\n",
    "qry = '''\n",
    "SELECT  country\n",
    "FROM airbnb_listings\n",
    "'''\n",
    "# visualizar columna country\n",
    "# para visualizar la salida, usaremos pandas\n",
    "df =pd.read_sql_query(qry, conn)\n",
    "\n",
    "df.head()"
   ]
  },
  {
   "cell_type": "code",
   "execution_count": 13,
   "id": "ecd54f47",
   "metadata": {},
   "outputs": [
    {
     "data": {
      "text/html": [
       "<div>\n",
       "<style scoped>\n",
       "    .dataframe tbody tr th:only-of-type {\n",
       "        vertical-align: middle;\n",
       "    }\n",
       "\n",
       "    .dataframe tbody tr th {\n",
       "        vertical-align: top;\n",
       "    }\n",
       "\n",
       "    .dataframe thead th {\n",
       "        text-align: right;\n",
       "    }\n",
       "</style>\n",
       "<table border=\"1\" class=\"dataframe\">\n",
       "  <thead>\n",
       "    <tr style=\"text-align: right;\">\n",
       "      <th></th>\n",
       "      <th>city</th>\n",
       "    </tr>\n",
       "  </thead>\n",
       "  <tbody>\n",
       "    <tr>\n",
       "      <th>0</th>\n",
       "      <td>París</td>\n",
       "    </tr>\n",
       "    <tr>\n",
       "      <th>1</th>\n",
       "      <td>Tokio</td>\n",
       "    </tr>\n",
       "    <tr>\n",
       "      <th>2</th>\n",
       "      <td>Nueva York</td>\n",
       "    </tr>\n",
       "    <tr>\n",
       "      <th>3</th>\n",
       "      <td>Madrid</td>\n",
       "    </tr>\n",
       "  </tbody>\n",
       "</table>\n",
       "</div>"
      ],
      "text/plain": [
       "         city\n",
       "0       París\n",
       "1       Tokio\n",
       "2  Nueva York\n",
       "3      Madrid"
      ]
     },
     "execution_count": 13,
     "metadata": {},
     "output_type": "execute_result"
    }
   ],
   "source": [
    "# creamos la query y la guardamos en la variable qry\n",
    "qry = '''\n",
    "SELECT city\n",
    "FROM airbnb_listings;\n",
    "'''\n",
    "\n",
    "# para visualizar la salida, usaremos pandas\n",
    "df =pd.read_sql_query(qry, conn)\n",
    "\n",
    "df.head()"
   ]
  },
  {
   "cell_type": "code",
   "execution_count": 14,
   "id": "a1eaba68",
   "metadata": {},
   "outputs": [
    {
     "data": {
      "text/html": [
       "<div>\n",
       "<style scoped>\n",
       "    .dataframe tbody tr th:only-of-type {\n",
       "        vertical-align: middle;\n",
       "    }\n",
       "\n",
       "    .dataframe tbody tr th {\n",
       "        vertical-align: top;\n",
       "    }\n",
       "\n",
       "    .dataframe thead th {\n",
       "        text-align: right;\n",
       "    }\n",
       "</style>\n",
       "<table border=\"1\" class=\"dataframe\">\n",
       "  <thead>\n",
       "    <tr style=\"text-align: right;\">\n",
       "      <th></th>\n",
       "      <th>city</th>\n",
       "      <th>created_at</th>\n",
       "    </tr>\n",
       "  </thead>\n",
       "  <tbody>\n",
       "    <tr>\n",
       "      <th>0</th>\n",
       "      <td>París</td>\n",
       "      <td>2018</td>\n",
       "    </tr>\n",
       "    <tr>\n",
       "      <th>1</th>\n",
       "      <td>Tokio</td>\n",
       "      <td>2017</td>\n",
       "    </tr>\n",
       "    <tr>\n",
       "      <th>2</th>\n",
       "      <td>Nueva York</td>\n",
       "      <td>2022</td>\n",
       "    </tr>\n",
       "    <tr>\n",
       "      <th>3</th>\n",
       "      <td>Madrid</td>\n",
       "      <td>2022</td>\n",
       "    </tr>\n",
       "  </tbody>\n",
       "</table>\n",
       "</div>"
      ],
      "text/plain": [
       "         city  created_at\n",
       "0       París        2018\n",
       "1       Tokio        2017\n",
       "2  Nueva York        2022\n",
       "3      Madrid        2022"
      ]
     },
     "execution_count": 14,
     "metadata": {},
     "output_type": "execute_result"
    }
   ],
   "source": [
    "# creamos la query y la guardamos en la variable qry\n",
    "qry = '''\n",
    "SELECT city, created_at\n",
    "FROM airbnb_listings;\n",
    "'''\n",
    "\n",
    "# para visualizar la salida, usaremos pandas\n",
    "df =pd.read_sql_query(qry, conn)\n",
    "\n",
    "df.head()"
   ]
  },
  {
   "cell_type": "markdown",
   "id": "00ba087e",
   "metadata": {},
   "source": [
    "ORDER BY"
   ]
  },
  {
   "cell_type": "code",
   "execution_count": 10,
   "id": "c553cee4",
   "metadata": {},
   "outputs": [
    {
     "data": {
      "text/html": [
       "<div>\n",
       "<style scoped>\n",
       "    .dataframe tbody tr th:only-of-type {\n",
       "        vertical-align: middle;\n",
       "    }\n",
       "\n",
       "    .dataframe tbody tr th {\n",
       "        vertical-align: top;\n",
       "    }\n",
       "\n",
       "    .dataframe thead th {\n",
       "        text-align: right;\n",
       "    }\n",
       "</style>\n",
       "<table border=\"1\" class=\"dataframe\">\n",
       "  <thead>\n",
       "    <tr style=\"text-align: right;\">\n",
       "      <th></th>\n",
       "      <th>country</th>\n",
       "    </tr>\n",
       "  </thead>\n",
       "  <tbody>\n",
       "    <tr>\n",
       "      <th>0</th>\n",
       "      <td>Japón</td>\n",
       "    </tr>\n",
       "    <tr>\n",
       "      <th>1</th>\n",
       "      <td>Francia</td>\n",
       "    </tr>\n",
       "    <tr>\n",
       "      <th>2</th>\n",
       "      <td>USA</td>\n",
       "    </tr>\n",
       "    <tr>\n",
       "      <th>3</th>\n",
       "      <td>España</td>\n",
       "    </tr>\n",
       "  </tbody>\n",
       "</table>\n",
       "</div>"
      ],
      "text/plain": [
       "   country\n",
       "0    Japón\n",
       "1  Francia\n",
       "2      USA\n",
       "3   España"
      ]
     },
     "execution_count": 10,
     "metadata": {},
     "output_type": "execute_result"
    }
   ],
   "source": [
    "# creamos la query y la guardamos en la variable qry\n",
    "qry = '''\n",
    "SELECT  country\n",
    "FROM airbnb_listings\n",
    "ORDER BY city DESC;\n",
    "'''\n",
    "# visualizar columna country\n",
    "# para visualizar la salida, usaremos pandas\n",
    "df =pd.read_sql_query(qry, conn)\n",
    "\n",
    "df.head()"
   ]
  },
  {
   "cell_type": "code",
   "execution_count": 12,
   "id": "996ae3ca",
   "metadata": {},
   "outputs": [
    {
     "data": {
      "text/html": [
       "<div>\n",
       "<style scoped>\n",
       "    .dataframe tbody tr th:only-of-type {\n",
       "        vertical-align: middle;\n",
       "    }\n",
       "\n",
       "    .dataframe tbody tr th {\n",
       "        vertical-align: top;\n",
       "    }\n",
       "\n",
       "    .dataframe thead th {\n",
       "        text-align: right;\n",
       "    }\n",
       "</style>\n",
       "<table border=\"1\" class=\"dataframe\">\n",
       "  <thead>\n",
       "    <tr style=\"text-align: right;\">\n",
       "      <th></th>\n",
       "      <th>country</th>\n",
       "    </tr>\n",
       "  </thead>\n",
       "  <tbody>\n",
       "    <tr>\n",
       "      <th>0</th>\n",
       "      <td>Japón</td>\n",
       "    </tr>\n",
       "    <tr>\n",
       "      <th>1</th>\n",
       "      <td>Francia</td>\n",
       "    </tr>\n",
       "  </tbody>\n",
       "</table>\n",
       "</div>"
      ],
      "text/plain": [
       "   country\n",
       "0    Japón\n",
       "1  Francia"
      ]
     },
     "execution_count": 12,
     "metadata": {},
     "output_type": "execute_result"
    }
   ],
   "source": [
    "# creamos la query y la guardamos en la variable qry\n",
    "qry = '''\n",
    "SELECT  country\n",
    "FROM airbnb_listings\n",
    "WHERE created_at < 2020\n",
    "ORDER BY city DESC;\n",
    "'''\n",
    "# visualizar columna country\n",
    "# para visualizar la salida, usaremos pandas\n",
    "df =pd.read_sql_query(qry, conn)\n",
    "\n",
    "df.head()"
   ]
  },
  {
   "cell_type": "code",
   "execution_count": 6,
   "id": "7f143b22",
   "metadata": {},
   "outputs": [
    {
     "data": {
      "text/html": [
       "<div>\n",
       "<style scoped>\n",
       "    .dataframe tbody tr th:only-of-type {\n",
       "        vertical-align: middle;\n",
       "    }\n",
       "\n",
       "    .dataframe tbody tr th {\n",
       "        vertical-align: top;\n",
       "    }\n",
       "\n",
       "    .dataframe thead th {\n",
       "        text-align: right;\n",
       "    }\n",
       "</style>\n",
       "<table border=\"1\" class=\"dataframe\">\n",
       "  <thead>\n",
       "    <tr style=\"text-align: right;\">\n",
       "      <th></th>\n",
       "      <th>country</th>\n",
       "    </tr>\n",
       "  </thead>\n",
       "  <tbody>\n",
       "    <tr>\n",
       "      <th>0</th>\n",
       "      <td>Japón</td>\n",
       "    </tr>\n",
       "    <tr>\n",
       "      <th>1</th>\n",
       "      <td>Francia</td>\n",
       "    </tr>\n",
       "  </tbody>\n",
       "</table>\n",
       "</div>"
      ],
      "text/plain": [
       "   country\n",
       "0    Japón\n",
       "1  Francia"
      ]
     },
     "execution_count": 6,
     "metadata": {},
     "output_type": "execute_result"
    }
   ],
   "source": [
    "# creamos la query y la guardamos en la variable qry\n",
    "qry = '''\n",
    "SELECT  country\n",
    "FROM airbnb_listings\n",
    "WHERE created_at < 2020\n",
    "ORDER BY id DESC;\n",
    "'''\n",
    "\n",
    "# para visualizar la salida, usaremos pandas\n",
    "df =pd.read_sql_query(qry, conn)\n",
    "\n",
    "df.head()"
   ]
  },
  {
   "cell_type": "markdown",
   "id": "3ab470cc",
   "metadata": {},
   "source": [
    "Si le ponemos la final `ASC` o nada será ascendente, y si le ponemos  `DESC` será descente."
   ]
  },
  {
   "cell_type": "code",
   "execution_count": 17,
   "id": "57c75c42",
   "metadata": {},
   "outputs": [
    {
     "data": {
      "text/html": [
       "<div>\n",
       "<style scoped>\n",
       "    .dataframe tbody tr th:only-of-type {\n",
       "        vertical-align: middle;\n",
       "    }\n",
       "\n",
       "    .dataframe tbody tr th {\n",
       "        vertical-align: top;\n",
       "    }\n",
       "\n",
       "    .dataframe thead th {\n",
       "        text-align: right;\n",
       "    }\n",
       "</style>\n",
       "<table border=\"1\" class=\"dataframe\">\n",
       "  <thead>\n",
       "    <tr style=\"text-align: right;\">\n",
       "      <th></th>\n",
       "      <th>id</th>\n",
       "      <th>city</th>\n",
       "    </tr>\n",
       "  </thead>\n",
       "  <tbody>\n",
       "    <tr>\n",
       "      <th>0</th>\n",
       "      <td>2</td>\n",
       "      <td>Tokio</td>\n",
       "    </tr>\n",
       "    <tr>\n",
       "      <th>1</th>\n",
       "      <td>3</td>\n",
       "      <td>Nueva York</td>\n",
       "    </tr>\n",
       "    <tr>\n",
       "      <th>2</th>\n",
       "      <td>4</td>\n",
       "      <td>Madrid</td>\n",
       "    </tr>\n",
       "    <tr>\n",
       "      <th>3</th>\n",
       "      <td>1</td>\n",
       "      <td>París</td>\n",
       "    </tr>\n",
       "  </tbody>\n",
       "</table>\n",
       "</div>"
      ],
      "text/plain": [
       "   id        city\n",
       "0   2       Tokio\n",
       "1   3  Nueva York\n",
       "2   4      Madrid\n",
       "3   1       París"
      ]
     },
     "execution_count": 17,
     "metadata": {},
     "output_type": "execute_result"
    }
   ],
   "source": [
    "# orden ascendente\n",
    "qry = '''\n",
    "SELECT id, city\n",
    "FROM airbnb_listings\n",
    "ORDER BY number_of_rooms;\n",
    "'''\n",
    "\n",
    "# para visualizar la salida, usaremos pandas\n",
    "df =pd.read_sql_query(qry, conn)\n",
    "\n",
    "df.head()"
   ]
  },
  {
   "cell_type": "code",
   "execution_count": 18,
   "id": "c5178eac",
   "metadata": {},
   "outputs": [
    {
     "data": {
      "text/html": [
       "<div>\n",
       "<style scoped>\n",
       "    .dataframe tbody tr th:only-of-type {\n",
       "        vertical-align: middle;\n",
       "    }\n",
       "\n",
       "    .dataframe tbody tr th {\n",
       "        vertical-align: top;\n",
       "    }\n",
       "\n",
       "    .dataframe thead th {\n",
       "        text-align: right;\n",
       "    }\n",
       "</style>\n",
       "<table border=\"1\" class=\"dataframe\">\n",
       "  <thead>\n",
       "    <tr style=\"text-align: right;\">\n",
       "      <th></th>\n",
       "      <th>id</th>\n",
       "      <th>city</th>\n",
       "    </tr>\n",
       "  </thead>\n",
       "  <tbody>\n",
       "    <tr>\n",
       "      <th>0</th>\n",
       "      <td>1</td>\n",
       "      <td>París</td>\n",
       "    </tr>\n",
       "    <tr>\n",
       "      <th>1</th>\n",
       "      <td>4</td>\n",
       "      <td>Madrid</td>\n",
       "    </tr>\n",
       "    <tr>\n",
       "      <th>2</th>\n",
       "      <td>2</td>\n",
       "      <td>Tokio</td>\n",
       "    </tr>\n",
       "    <tr>\n",
       "      <th>3</th>\n",
       "      <td>3</td>\n",
       "      <td>Nueva York</td>\n",
       "    </tr>\n",
       "  </tbody>\n",
       "</table>\n",
       "</div>"
      ],
      "text/plain": [
       "   id        city\n",
       "0   1       París\n",
       "1   4      Madrid\n",
       "2   2       Tokio\n",
       "3   3  Nueva York"
      ]
     },
     "execution_count": 18,
     "metadata": {},
     "output_type": "execute_result"
    }
   ],
   "source": [
    "# orden descendente\n",
    "qry = '''\n",
    "SELECT id, city\n",
    "FROM airbnb_listings\n",
    "ORDER BY number_of_rooms DESC;\n",
    "'''\n",
    "\n",
    "# para visualizar la salida, usaremos pandas\n",
    "df =pd.read_sql_query(qry, conn)\n",
    "\n",
    "df.head()"
   ]
  },
  {
   "cell_type": "markdown",
   "id": "c07c3797",
   "metadata": {},
   "source": [
    "LIMIT"
   ]
  },
  {
   "cell_type": "markdown",
   "id": "32558194",
   "metadata": {},
   "source": [
    "El método `LIMIT` permite limitar el número de filas que queremos obtener."
   ]
  },
  {
   "cell_type": "code",
   "execution_count": 21,
   "id": "7a1f91af",
   "metadata": {},
   "outputs": [
    {
     "data": {
      "text/html": [
       "<div>\n",
       "<style scoped>\n",
       "    .dataframe tbody tr th:only-of-type {\n",
       "        vertical-align: middle;\n",
       "    }\n",
       "\n",
       "    .dataframe tbody tr th {\n",
       "        vertical-align: top;\n",
       "    }\n",
       "\n",
       "    .dataframe thead th {\n",
       "        text-align: right;\n",
       "    }\n",
       "</style>\n",
       "<table border=\"1\" class=\"dataframe\">\n",
       "  <thead>\n",
       "    <tr style=\"text-align: right;\">\n",
       "      <th></th>\n",
       "      <th>id</th>\n",
       "      <th>city</th>\n",
       "      <th>country</th>\n",
       "      <th>number_of_rooms</th>\n",
       "      <th>created_at</th>\n",
       "    </tr>\n",
       "  </thead>\n",
       "  <tbody>\n",
       "    <tr>\n",
       "      <th>0</th>\n",
       "      <td>1</td>\n",
       "      <td>París</td>\n",
       "      <td>Francia</td>\n",
       "      <td>5</td>\n",
       "      <td>2018</td>\n",
       "    </tr>\n",
       "    <tr>\n",
       "      <th>1</th>\n",
       "      <td>2</td>\n",
       "      <td>Tokio</td>\n",
       "      <td>Japón</td>\n",
       "      <td>2</td>\n",
       "      <td>2017</td>\n",
       "    </tr>\n",
       "    <tr>\n",
       "      <th>2</th>\n",
       "      <td>3</td>\n",
       "      <td>Nueva York</td>\n",
       "      <td>USA</td>\n",
       "      <td>2</td>\n",
       "      <td>2022</td>\n",
       "    </tr>\n",
       "  </tbody>\n",
       "</table>\n",
       "</div>"
      ],
      "text/plain": [
       "   id        city  country  number_of_rooms  created_at\n",
       "0   1       París  Francia                5        2018\n",
       "1   2       Tokio    Japón                2        2017\n",
       "2   3  Nueva York      USA                2        2022"
      ]
     },
     "execution_count": 21,
     "metadata": {},
     "output_type": "execute_result"
    }
   ],
   "source": [
    "# solo 2 filas\n",
    "qry = '''\n",
    "SELECT *\n",
    "FROM airbnb_listings\n",
    "LIMIT 3;\n",
    "'''\n",
    "\n",
    "# para visualizar la salida, usaremos pandas\n",
    "df =pd.read_sql_query(qry, conn)\n",
    "\n",
    "df.head()"
   ]
  },
  {
   "cell_type": "markdown",
   "id": "865c48ff",
   "metadata": {},
   "source": [
    "DISTINCT"
   ]
  },
  {
   "cell_type": "markdown",
   "id": "814fc1d2",
   "metadata": {},
   "source": [
    "El método `DISTINCT` nos devuelve solo los valores únicos, y descarta aquellos diplicados."
   ]
  },
  {
   "cell_type": "code",
   "execution_count": 22,
   "id": "2e5a286f",
   "metadata": {},
   "outputs": [
    {
     "data": {
      "text/html": [
       "<div>\n",
       "<style scoped>\n",
       "    .dataframe tbody tr th:only-of-type {\n",
       "        vertical-align: middle;\n",
       "    }\n",
       "\n",
       "    .dataframe tbody tr th {\n",
       "        vertical-align: top;\n",
       "    }\n",
       "\n",
       "    .dataframe thead th {\n",
       "        text-align: right;\n",
       "    }\n",
       "</style>\n",
       "<table border=\"1\" class=\"dataframe\">\n",
       "  <thead>\n",
       "    <tr style=\"text-align: right;\">\n",
       "      <th></th>\n",
       "      <th>number_of_rooms</th>\n",
       "    </tr>\n",
       "  </thead>\n",
       "  <tbody>\n",
       "    <tr>\n",
       "      <th>0</th>\n",
       "      <td>5</td>\n",
       "    </tr>\n",
       "    <tr>\n",
       "      <th>1</th>\n",
       "      <td>2</td>\n",
       "    </tr>\n",
       "    <tr>\n",
       "      <th>2</th>\n",
       "      <td>3</td>\n",
       "    </tr>\n",
       "  </tbody>\n",
       "</table>\n",
       "</div>"
      ],
      "text/plain": [
       "   number_of_rooms\n",
       "0                5\n",
       "1                2\n",
       "2                3"
      ]
     },
     "execution_count": 22,
     "metadata": {},
     "output_type": "execute_result"
    }
   ],
   "source": [
    "# obtener valores únicos de number_of_rooms\n",
    "qry = '''\n",
    "SELECT DISTINCT number_of_rooms\n",
    "FROM airbnb_listings;\n",
    "'''\n",
    "\n",
    "# para visualizar la salida, usaremos pandas\n",
    "df =pd.read_sql_query(qry, conn)\n",
    "\n",
    "df.head()"
   ]
  },
  {
   "cell_type": "markdown",
   "id": "292b7573",
   "metadata": {},
   "source": [
    "WHERE"
   ]
  },
  {
   "cell_type": "markdown",
   "id": "4830db35",
   "metadata": {},
   "source": [
    "Para filtrar datos que contengan ciertos valores, se suele utilizar el método `WHERE` acompañado de otras condiciones, operadores, o métodos."
   ]
  },
  {
   "cell_type": "code",
   "execution_count": 24,
   "id": "8c74141a",
   "metadata": {},
   "outputs": [
    {
     "data": {
      "text/html": [
       "<div>\n",
       "<style scoped>\n",
       "    .dataframe tbody tr th:only-of-type {\n",
       "        vertical-align: middle;\n",
       "    }\n",
       "\n",
       "    .dataframe tbody tr th {\n",
       "        vertical-align: top;\n",
       "    }\n",
       "\n",
       "    .dataframe thead th {\n",
       "        text-align: right;\n",
       "    }\n",
       "</style>\n",
       "<table border=\"1\" class=\"dataframe\">\n",
       "  <thead>\n",
       "    <tr style=\"text-align: right;\">\n",
       "      <th></th>\n",
       "      <th>id</th>\n",
       "      <th>city</th>\n",
       "      <th>country</th>\n",
       "      <th>number_of_rooms</th>\n",
       "      <th>created_at</th>\n",
       "    </tr>\n",
       "  </thead>\n",
       "  <tbody>\n",
       "    <tr>\n",
       "      <th>0</th>\n",
       "      <td>1</td>\n",
       "      <td>París</td>\n",
       "      <td>Francia</td>\n",
       "      <td>5</td>\n",
       "      <td>2018</td>\n",
       "    </tr>\n",
       "  </tbody>\n",
       "</table>\n",
       "</div>"
      ],
      "text/plain": [
       "   id   city  country  number_of_rooms  created_at\n",
       "0   1  París  Francia                5        2018"
      ]
     },
     "execution_count": 24,
     "metadata": {},
     "output_type": "execute_result"
    }
   ],
   "source": [
    "# obtener valores con habitaciones mayor o igual a 3\n",
    "qry = '''\n",
    "SELECT *\n",
    "FROM airbnb_listings\n",
    "WHERE number_of_rooms >3;\n",
    "'''\n",
    "\n",
    "# para visualizar la salida, usaremos pandas\n",
    "df =pd.read_sql_query(qry, conn)\n",
    "\n",
    "df.head()"
   ]
  },
  {
   "cell_type": "markdown",
   "id": "2141a024",
   "metadata": {},
   "source": [
    "BETWEEN y AND"
   ]
  },
  {
   "cell_type": "markdown",
   "id": "b20dbf98",
   "metadata": {},
   "source": [
    "Si queremos usar diferentes comparaciones podremos usar el método `AND`.\n",
    "\n",
    "Si queremos usar invervalos de valores, podemos usar el método `BETWEEN  AND`."
   ]
  },
  {
   "cell_type": "code",
   "execution_count": 25,
   "id": "c36799f3",
   "metadata": {},
   "outputs": [
    {
     "data": {
      "text/html": [
       "<div>\n",
       "<style scoped>\n",
       "    .dataframe tbody tr th:only-of-type {\n",
       "        vertical-align: middle;\n",
       "    }\n",
       "\n",
       "    .dataframe tbody tr th {\n",
       "        vertical-align: top;\n",
       "    }\n",
       "\n",
       "    .dataframe thead th {\n",
       "        text-align: right;\n",
       "    }\n",
       "</style>\n",
       "<table border=\"1\" class=\"dataframe\">\n",
       "  <thead>\n",
       "    <tr style=\"text-align: right;\">\n",
       "      <th></th>\n",
       "      <th>id</th>\n",
       "      <th>city</th>\n",
       "      <th>country</th>\n",
       "      <th>number_of_rooms</th>\n",
       "      <th>created_at</th>\n",
       "    </tr>\n",
       "  </thead>\n",
       "  <tbody>\n",
       "    <tr>\n",
       "      <th>0</th>\n",
       "      <td>1</td>\n",
       "      <td>París</td>\n",
       "      <td>Francia</td>\n",
       "      <td>5</td>\n",
       "      <td>2018</td>\n",
       "    </tr>\n",
       "  </tbody>\n",
       "</table>\n",
       "</div>"
      ],
      "text/plain": [
       "   id   city  country  number_of_rooms  created_at\n",
       "0   1  París  Francia                5        2018"
      ]
     },
     "execution_count": 25,
     "metadata": {},
     "output_type": "execute_result"
    }
   ],
   "source": [
    "# obtener valores con habitaciones mayor o igual a 3 y menor o igual que 5\n",
    "qry = '''\n",
    "SELECT *\n",
    "FROM airbnb_listings\n",
    "WHERE number_of_rooms >=3 AND created_at <2020;\n",
    "'''\n",
    "\n",
    "# para visualizar la salida, usaremos pandas\n",
    "df =pd.read_sql_query(qry, conn)\n",
    "\n",
    "df.head()"
   ]
  },
  {
   "cell_type": "code",
   "execution_count": 26,
   "id": "c5f86c1d",
   "metadata": {},
   "outputs": [
    {
     "data": {
      "text/html": [
       "<div>\n",
       "<style scoped>\n",
       "    .dataframe tbody tr th:only-of-type {\n",
       "        vertical-align: middle;\n",
       "    }\n",
       "\n",
       "    .dataframe tbody tr th {\n",
       "        vertical-align: top;\n",
       "    }\n",
       "\n",
       "    .dataframe thead th {\n",
       "        text-align: right;\n",
       "    }\n",
       "</style>\n",
       "<table border=\"1\" class=\"dataframe\">\n",
       "  <thead>\n",
       "    <tr style=\"text-align: right;\">\n",
       "      <th></th>\n",
       "      <th>id</th>\n",
       "      <th>city</th>\n",
       "      <th>country</th>\n",
       "      <th>number_of_rooms</th>\n",
       "      <th>created_at</th>\n",
       "    </tr>\n",
       "  </thead>\n",
       "  <tbody>\n",
       "    <tr>\n",
       "      <th>0</th>\n",
       "      <td>1</td>\n",
       "      <td>París</td>\n",
       "      <td>Francia</td>\n",
       "      <td>5</td>\n",
       "      <td>2018</td>\n",
       "    </tr>\n",
       "    <tr>\n",
       "      <th>1</th>\n",
       "      <td>4</td>\n",
       "      <td>Madrid</td>\n",
       "      <td>España</td>\n",
       "      <td>3</td>\n",
       "      <td>2022</td>\n",
       "    </tr>\n",
       "  </tbody>\n",
       "</table>\n",
       "</div>"
      ],
      "text/plain": [
       "   id    city  country  number_of_rooms  created_at\n",
       "0   1   París  Francia                5        2018\n",
       "1   4  Madrid   España                3        2022"
      ]
     },
     "execution_count": 26,
     "metadata": {},
     "output_type": "execute_result"
    }
   ],
   "source": [
    "# obtener valores con habitaciones entre 3 y 5\n",
    "qry = '''\n",
    "SELECT *\n",
    "FROM airbnb_listings\n",
    "WHERE number_of_rooms BETWEEN 3 AND 5;\n",
    "'''\n",
    "\n",
    "# para visualizar la salida, usaremos pandas\n",
    "df =pd.read_sql_query(qry, conn)\n",
    "\n",
    "df.head()"
   ]
  },
  {
   "cell_type": "markdown",
   "id": "fda33e2d",
   "metadata": {},
   "source": [
    "= IN LIKE NOT LIKE"
   ]
  },
  {
   "cell_type": "code",
   "execution_count": 27,
   "id": "599a733a",
   "metadata": {},
   "outputs": [
    {
     "data": {
      "text/html": [
       "<div>\n",
       "<style scoped>\n",
       "    .dataframe tbody tr th:only-of-type {\n",
       "        vertical-align: middle;\n",
       "    }\n",
       "\n",
       "    .dataframe tbody tr th {\n",
       "        vertical-align: top;\n",
       "    }\n",
       "\n",
       "    .dataframe thead th {\n",
       "        text-align: right;\n",
       "    }\n",
       "</style>\n",
       "<table border=\"1\" class=\"dataframe\">\n",
       "  <thead>\n",
       "    <tr style=\"text-align: right;\">\n",
       "      <th></th>\n",
       "      <th>id</th>\n",
       "      <th>city</th>\n",
       "      <th>country</th>\n",
       "      <th>number_of_rooms</th>\n",
       "      <th>created_at</th>\n",
       "    </tr>\n",
       "  </thead>\n",
       "  <tbody>\n",
       "    <tr>\n",
       "      <th>0</th>\n",
       "      <td>4</td>\n",
       "      <td>Madrid</td>\n",
       "      <td>España</td>\n",
       "      <td>3</td>\n",
       "      <td>2022</td>\n",
       "    </tr>\n",
       "  </tbody>\n",
       "</table>\n",
       "</div>"
      ],
      "text/plain": [
       "   id    city country  number_of_rooms  created_at\n",
       "0   4  Madrid  España                3        2022"
      ]
     },
     "execution_count": 27,
     "metadata": {},
     "output_type": "execute_result"
    }
   ],
   "source": [
    "# obtener valores de París\n",
    "qry = '''\n",
    "SELECT *\n",
    "FROM airbnb_listings\n",
    "WHERE city = 'Madrid';\n",
    "'''\n",
    "\n",
    "# para visualizar la salida, usaremos pandas\n",
    "df =pd.read_sql_query(qry, conn)\n",
    "\n",
    "df.head()"
   ]
  },
  {
   "cell_type": "code",
   "execution_count": 28,
   "id": "23735b0f",
   "metadata": {},
   "outputs": [
    {
     "data": {
      "text/html": [
       "<div>\n",
       "<style scoped>\n",
       "    .dataframe tbody tr th:only-of-type {\n",
       "        vertical-align: middle;\n",
       "    }\n",
       "\n",
       "    .dataframe tbody tr th {\n",
       "        vertical-align: top;\n",
       "    }\n",
       "\n",
       "    .dataframe thead th {\n",
       "        text-align: right;\n",
       "    }\n",
       "</style>\n",
       "<table border=\"1\" class=\"dataframe\">\n",
       "  <thead>\n",
       "    <tr style=\"text-align: right;\">\n",
       "      <th></th>\n",
       "      <th>id</th>\n",
       "      <th>city</th>\n",
       "      <th>country</th>\n",
       "      <th>number_of_rooms</th>\n",
       "      <th>created_at</th>\n",
       "    </tr>\n",
       "  </thead>\n",
       "  <tbody>\n",
       "    <tr>\n",
       "      <th>0</th>\n",
       "      <td>1</td>\n",
       "      <td>París</td>\n",
       "      <td>Francia</td>\n",
       "      <td>5</td>\n",
       "      <td>2018</td>\n",
       "    </tr>\n",
       "    <tr>\n",
       "      <th>1</th>\n",
       "      <td>3</td>\n",
       "      <td>Nueva York</td>\n",
       "      <td>USA</td>\n",
       "      <td>2</td>\n",
       "      <td>2022</td>\n",
       "    </tr>\n",
       "  </tbody>\n",
       "</table>\n",
       "</div>"
      ],
      "text/plain": [
       "   id        city  country  number_of_rooms  created_at\n",
       "0   1       París  Francia                5        2018\n",
       "1   3  Nueva York      USA                2        2022"
      ]
     },
     "execution_count": 28,
     "metadata": {},
     "output_type": "execute_result"
    }
   ],
   "source": [
    "# obtener valores de dos países\n",
    "qry = '''\n",
    "SELECT *\n",
    "FROM airbnb_listings\n",
    "WHERE country IN ('USA','Francia');\n",
    "'''\n",
    "\n",
    "# para visualizar la salida, usaremos pandas\n",
    "df =pd.read_sql_query(qry, conn)\n",
    "\n",
    "df.head()"
   ]
  },
  {
   "cell_type": "code",
   "execution_count": 29,
   "id": "aa6d21eb",
   "metadata": {},
   "outputs": [
    {
     "data": {
      "text/html": [
       "<div>\n",
       "<style scoped>\n",
       "    .dataframe tbody tr th:only-of-type {\n",
       "        vertical-align: middle;\n",
       "    }\n",
       "\n",
       "    .dataframe tbody tr th {\n",
       "        vertical-align: top;\n",
       "    }\n",
       "\n",
       "    .dataframe thead th {\n",
       "        text-align: right;\n",
       "    }\n",
       "</style>\n",
       "<table border=\"1\" class=\"dataframe\">\n",
       "  <thead>\n",
       "    <tr style=\"text-align: right;\">\n",
       "      <th></th>\n",
       "      <th>id</th>\n",
       "      <th>city</th>\n",
       "      <th>country</th>\n",
       "      <th>number_of_rooms</th>\n",
       "      <th>created_at</th>\n",
       "    </tr>\n",
       "  </thead>\n",
       "  <tbody>\n",
       "    <tr>\n",
       "      <th>0</th>\n",
       "      <td>1</td>\n",
       "      <td>París</td>\n",
       "      <td>Francia</td>\n",
       "      <td>5</td>\n",
       "      <td>2018</td>\n",
       "    </tr>\n",
       "    <tr>\n",
       "      <th>1</th>\n",
       "      <td>2</td>\n",
       "      <td>Tokio</td>\n",
       "      <td>Japón</td>\n",
       "      <td>2</td>\n",
       "      <td>2017</td>\n",
       "    </tr>\n",
       "    <tr>\n",
       "      <th>2</th>\n",
       "      <td>4</td>\n",
       "      <td>Madrid</td>\n",
       "      <td>España</td>\n",
       "      <td>3</td>\n",
       "      <td>2022</td>\n",
       "    </tr>\n",
       "  </tbody>\n",
       "</table>\n",
       "</div>"
      ],
      "text/plain": [
       "   id    city  country  number_of_rooms  created_at\n",
       "0   1   París  Francia                5        2018\n",
       "1   2   Tokio    Japón                2        2017\n",
       "2   4  Madrid   España                3        2022"
      ]
     },
     "execution_count": 29,
     "metadata": {},
     "output_type": "execute_result"
    }
   ],
   "source": [
    "# obtener valores donde la ciudad empiece por M o no termine por K\n",
    "# obtener valores de dos países\n",
    "qry = '''\n",
    "SELECT *\n",
    "FROM airbnb_listings\n",
    "WHERE city LIKE 'M%' OR city NOT LIKE '%k';\n",
    "'''\n",
    "\n",
    "# para visualizar la salida, usaremos pandas\n",
    "df =pd.read_sql_query(qry, conn)\n",
    "\n",
    "df.head()"
   ]
  },
  {
   "cell_type": "code",
   "execution_count": 30,
   "id": "1d974682",
   "metadata": {},
   "outputs": [
    {
     "data": {
      "text/html": [
       "<div>\n",
       "<style scoped>\n",
       "    .dataframe tbody tr th:only-of-type {\n",
       "        vertical-align: middle;\n",
       "    }\n",
       "\n",
       "    .dataframe tbody tr th {\n",
       "        vertical-align: top;\n",
       "    }\n",
       "\n",
       "    .dataframe thead th {\n",
       "        text-align: right;\n",
       "    }\n",
       "</style>\n",
       "<table border=\"1\" class=\"dataframe\">\n",
       "  <thead>\n",
       "    <tr style=\"text-align: right;\">\n",
       "      <th></th>\n",
       "      <th>id</th>\n",
       "      <th>city</th>\n",
       "      <th>country</th>\n",
       "      <th>number_of_rooms</th>\n",
       "      <th>created_at</th>\n",
       "    </tr>\n",
       "  </thead>\n",
       "  <tbody>\n",
       "    <tr>\n",
       "      <th>0</th>\n",
       "      <td>4</td>\n",
       "      <td>Madrid</td>\n",
       "      <td>España</td>\n",
       "      <td>3</td>\n",
       "      <td>2022</td>\n",
       "    </tr>\n",
       "  </tbody>\n",
       "</table>\n",
       "</div>"
      ],
      "text/plain": [
       "   id    city country  number_of_rooms  created_at\n",
       "0   4  Madrid  España                3        2022"
      ]
     },
     "execution_count": 30,
     "metadata": {},
     "output_type": "execute_result"
    }
   ],
   "source": [
    "# obtener valores donde la ciudad empiece por M o no termine por K\n",
    "# obtener valores de dos países\n",
    "qry = '''\n",
    "SELECT *\n",
    "FROM airbnb_listings\n",
    "WHERE city LIKE 'M%' AND city NOT LIKE '%k';\n",
    "'''\n",
    "\n",
    "# para visualizar la salida, usaremos pandas\n",
    "df =pd.read_sql_query(qry, conn)\n",
    "\n",
    "df.head()"
   ]
  },
  {
   "cell_type": "markdown",
   "id": "a4dc8fd6",
   "metadata": {},
   "source": [
    "FILTRAR MÚLTIPLES COLUMNAS"
   ]
  },
  {
   "cell_type": "code",
   "execution_count": null,
   "id": "d2f63569",
   "metadata": {},
   "outputs": [],
   "source": [
    "# obtener valores de París con habitaciones mayores que 3\n",
    "qry = '''\n",
    "SELECT *\n",
    "FROM airbnb_listings\n",
    "WHERE city = 'París' AND number_of_rooms >3;\n",
    "'''\n",
    "\n",
    "# para visualizar la salida, usaremos pandas\n",
    "df =pd.read_sql_query(qry, conn)\n",
    "\n",
    "df.head()"
   ]
  },
  {
   "cell_type": "markdown",
   "id": "6f84a375",
   "metadata": {},
   "source": [
    "FILTRAR VALORES NULOS"
   ]
  },
  {
   "cell_type": "code",
   "execution_count": 32,
   "id": "d615d2ff",
   "metadata": {},
   "outputs": [
    {
     "data": {
      "text/html": [
       "<div>\n",
       "<style scoped>\n",
       "    .dataframe tbody tr th:only-of-type {\n",
       "        vertical-align: middle;\n",
       "    }\n",
       "\n",
       "    .dataframe tbody tr th {\n",
       "        vertical-align: top;\n",
       "    }\n",
       "\n",
       "    .dataframe thead th {\n",
       "        text-align: right;\n",
       "    }\n",
       "</style>\n",
       "<table border=\"1\" class=\"dataframe\">\n",
       "  <thead>\n",
       "    <tr style=\"text-align: right;\">\n",
       "      <th></th>\n",
       "      <th>id</th>\n",
       "      <th>city</th>\n",
       "      <th>country</th>\n",
       "      <th>number_of_rooms</th>\n",
       "      <th>created_at</th>\n",
       "    </tr>\n",
       "  </thead>\n",
       "  <tbody>\n",
       "  </tbody>\n",
       "</table>\n",
       "</div>"
      ],
      "text/plain": [
       "Empty DataFrame\n",
       "Columns: [id, city, country, number_of_rooms, created_at]\n",
       "Index: []"
      ]
     },
     "execution_count": 32,
     "metadata": {},
     "output_type": "execute_result"
    }
   ],
   "source": [
    "# saber si hay valores nulos en la columna de number_of_rooms\n",
    "qry = '''\n",
    "SELECT *\n",
    "FROM airbnb_listings\n",
    "WHERE number_of_rooms IS NULL;\n",
    "'''\n",
    "\n",
    "# para visualizar la salida, usaremos pandas\n",
    "df =pd.read_sql_query(qry, conn)\n",
    "\n",
    "df.head()"
   ]
  },
  {
   "cell_type": "code",
   "execution_count": 33,
   "id": "63fbf297",
   "metadata": {},
   "outputs": [
    {
     "data": {
      "text/html": [
       "<div>\n",
       "<style scoped>\n",
       "    .dataframe tbody tr th:only-of-type {\n",
       "        vertical-align: middle;\n",
       "    }\n",
       "\n",
       "    .dataframe tbody tr th {\n",
       "        vertical-align: top;\n",
       "    }\n",
       "\n",
       "    .dataframe thead th {\n",
       "        text-align: right;\n",
       "    }\n",
       "</style>\n",
       "<table border=\"1\" class=\"dataframe\">\n",
       "  <thead>\n",
       "    <tr style=\"text-align: right;\">\n",
       "      <th></th>\n",
       "      <th>id</th>\n",
       "      <th>city</th>\n",
       "      <th>country</th>\n",
       "      <th>number_of_rooms</th>\n",
       "      <th>created_at</th>\n",
       "    </tr>\n",
       "  </thead>\n",
       "  <tbody>\n",
       "    <tr>\n",
       "      <th>0</th>\n",
       "      <td>1</td>\n",
       "      <td>París</td>\n",
       "      <td>Francia</td>\n",
       "      <td>5</td>\n",
       "      <td>2018</td>\n",
       "    </tr>\n",
       "    <tr>\n",
       "      <th>1</th>\n",
       "      <td>2</td>\n",
       "      <td>Tokio</td>\n",
       "      <td>Japón</td>\n",
       "      <td>2</td>\n",
       "      <td>2017</td>\n",
       "    </tr>\n",
       "    <tr>\n",
       "      <th>2</th>\n",
       "      <td>3</td>\n",
       "      <td>Nueva York</td>\n",
       "      <td>USA</td>\n",
       "      <td>2</td>\n",
       "      <td>2022</td>\n",
       "    </tr>\n",
       "    <tr>\n",
       "      <th>3</th>\n",
       "      <td>4</td>\n",
       "      <td>Madrid</td>\n",
       "      <td>España</td>\n",
       "      <td>3</td>\n",
       "      <td>2022</td>\n",
       "    </tr>\n",
       "  </tbody>\n",
       "</table>\n",
       "</div>"
      ],
      "text/plain": [
       "   id        city  country  number_of_rooms  created_at\n",
       "0   1       París  Francia                5        2018\n",
       "1   2       Tokio    Japón                2        2017\n",
       "2   3  Nueva York      USA                2        2022\n",
       "3   4      Madrid   España                3        2022"
      ]
     },
     "execution_count": 33,
     "metadata": {},
     "output_type": "execute_result"
    }
   ],
   "source": [
    "#También podemos obtener los valores no nulos, con el método `NOT NULL`.\n",
    "# saber si hay valores nulos en la columna de number_of_rooms\n",
    "qry = '''\n",
    "SELECT *\n",
    "FROM airbnb_listings\n",
    "WHERE number_of_rooms IS NOT NULL;\n",
    "'''\n",
    "\n",
    "# para visualizar la salida, usaremos pandas\n",
    "df =pd.read_sql_query(qry, conn)\n",
    "\n",
    "df.head()"
   ]
  },
  {
   "cell_type": "markdown",
   "id": "c91d571f",
   "metadata": {},
   "source": [
    "AGGREGATIONS"
   ]
  },
  {
   "cell_type": "markdown",
   "id": "4d74daee",
   "metadata": {},
   "source": [
    "SUMA PROMEDIO MAXIMO MINIMO"
   ]
  },
  {
   "cell_type": "code",
   "execution_count": 34,
   "id": "44f1d2b7",
   "metadata": {},
   "outputs": [
    {
     "data": {
      "text/html": [
       "<div>\n",
       "<style scoped>\n",
       "    .dataframe tbody tr th:only-of-type {\n",
       "        vertical-align: middle;\n",
       "    }\n",
       "\n",
       "    .dataframe tbody tr th {\n",
       "        vertical-align: top;\n",
       "    }\n",
       "\n",
       "    .dataframe thead th {\n",
       "        text-align: right;\n",
       "    }\n",
       "</style>\n",
       "<table border=\"1\" class=\"dataframe\">\n",
       "  <thead>\n",
       "    <tr style=\"text-align: right;\">\n",
       "      <th></th>\n",
       "      <th>SUM(number_of_rooms)</th>\n",
       "    </tr>\n",
       "  </thead>\n",
       "  <tbody>\n",
       "    <tr>\n",
       "      <th>0</th>\n",
       "      <td>12</td>\n",
       "    </tr>\n",
       "  </tbody>\n",
       "</table>\n",
       "</div>"
      ],
      "text/plain": [
       "   SUM(number_of_rooms)\n",
       "0                    12"
      ]
     },
     "execution_count": 34,
     "metadata": {},
     "output_type": "execute_result"
    }
   ],
   "source": [
    "qry = '''\n",
    "SELECT SUM(number_of_rooms)\n",
    "FROM airbnb_listings;\n",
    "'''\n",
    "# para visualizar la salida, usaremos pandas\n",
    "df =pd.read_sql_query(qry, conn)\n",
    "\n",
    "df.head()"
   ]
  },
  {
   "cell_type": "code",
   "execution_count": 35,
   "id": "5deb29a0",
   "metadata": {},
   "outputs": [
    {
     "data": {
      "text/html": [
       "<div>\n",
       "<style scoped>\n",
       "    .dataframe tbody tr th:only-of-type {\n",
       "        vertical-align: middle;\n",
       "    }\n",
       "\n",
       "    .dataframe tbody tr th {\n",
       "        vertical-align: top;\n",
       "    }\n",
       "\n",
       "    .dataframe thead th {\n",
       "        text-align: right;\n",
       "    }\n",
       "</style>\n",
       "<table border=\"1\" class=\"dataframe\">\n",
       "  <thead>\n",
       "    <tr style=\"text-align: right;\">\n",
       "      <th></th>\n",
       "      <th>AVG(number_of_rooms)</th>\n",
       "    </tr>\n",
       "  </thead>\n",
       "  <tbody>\n",
       "    <tr>\n",
       "      <th>0</th>\n",
       "      <td>3.0</td>\n",
       "    </tr>\n",
       "  </tbody>\n",
       "</table>\n",
       "</div>"
      ],
      "text/plain": [
       "   AVG(number_of_rooms)\n",
       "0                   3.0"
      ]
     },
     "execution_count": 35,
     "metadata": {},
     "output_type": "execute_result"
    }
   ],
   "source": [
    "qry = '''\n",
    "SELECT AVG(number_of_rooms)\n",
    "FROM airbnb_listings;\n",
    "'''\n",
    "# para visualizar la salida, usaremos pandas\n",
    "df =pd.read_sql_query(qry, conn)\n",
    "\n",
    "df.head()"
   ]
  },
  {
   "cell_type": "code",
   "execution_count": 36,
   "id": "7672f766",
   "metadata": {},
   "outputs": [
    {
     "data": {
      "text/html": [
       "<div>\n",
       "<style scoped>\n",
       "    .dataframe tbody tr th:only-of-type {\n",
       "        vertical-align: middle;\n",
       "    }\n",
       "\n",
       "    .dataframe tbody tr th {\n",
       "        vertical-align: top;\n",
       "    }\n",
       "\n",
       "    .dataframe thead th {\n",
       "        text-align: right;\n",
       "    }\n",
       "</style>\n",
       "<table border=\"1\" class=\"dataframe\">\n",
       "  <thead>\n",
       "    <tr style=\"text-align: right;\">\n",
       "      <th></th>\n",
       "      <th>MAX(number_of_rooms)</th>\n",
       "    </tr>\n",
       "  </thead>\n",
       "  <tbody>\n",
       "    <tr>\n",
       "      <th>0</th>\n",
       "      <td>5</td>\n",
       "    </tr>\n",
       "  </tbody>\n",
       "</table>\n",
       "</div>"
      ],
      "text/plain": [
       "   MAX(number_of_rooms)\n",
       "0                     5"
      ]
     },
     "execution_count": 36,
     "metadata": {},
     "output_type": "execute_result"
    }
   ],
   "source": [
    "qry = '''\n",
    "SELECT MAX(number_of_rooms)\n",
    "FROM airbnb_listings;\n",
    "'''\n",
    "# para visualizar la salida, usaremos pandas\n",
    "df =pd.read_sql_query(qry, conn)\n",
    "\n",
    "df.head()"
   ]
  },
  {
   "cell_type": "code",
   "execution_count": 37,
   "id": "e1e24aea",
   "metadata": {},
   "outputs": [
    {
     "data": {
      "text/html": [
       "<div>\n",
       "<style scoped>\n",
       "    .dataframe tbody tr th:only-of-type {\n",
       "        vertical-align: middle;\n",
       "    }\n",
       "\n",
       "    .dataframe tbody tr th {\n",
       "        vertical-align: top;\n",
       "    }\n",
       "\n",
       "    .dataframe thead th {\n",
       "        text-align: right;\n",
       "    }\n",
       "</style>\n",
       "<table border=\"1\" class=\"dataframe\">\n",
       "  <thead>\n",
       "    <tr style=\"text-align: right;\">\n",
       "      <th></th>\n",
       "      <th>MIN(number_of_rooms)</th>\n",
       "    </tr>\n",
       "  </thead>\n",
       "  <tbody>\n",
       "    <tr>\n",
       "      <th>0</th>\n",
       "      <td>2</td>\n",
       "    </tr>\n",
       "  </tbody>\n",
       "</table>\n",
       "</div>"
      ],
      "text/plain": [
       "   MIN(number_of_rooms)\n",
       "0                     2"
      ]
     },
     "execution_count": 37,
     "metadata": {},
     "output_type": "execute_result"
    }
   ],
   "source": [
    "qry = '''\n",
    "SELECT MIN(number_of_rooms)\n",
    "FROM airbnb_listings;\n",
    "'''\n",
    "# para visualizar la salida, usaremos pandas\n",
    "df =pd.read_sql_query(qry, conn)\n",
    "\n",
    "df.head()"
   ]
  },
  {
   "cell_type": "markdown",
   "id": "23fbc6e1",
   "metadata": {},
   "source": [
    "GROUP BY / HAVING"
   ]
  },
  {
   "cell_type": "code",
   "execution_count": 39,
   "id": "7860c665",
   "metadata": {},
   "outputs": [
    {
     "data": {
      "text/html": [
       "<div>\n",
       "<style scoped>\n",
       "    .dataframe tbody tr th:only-of-type {\n",
       "        vertical-align: middle;\n",
       "    }\n",
       "\n",
       "    .dataframe tbody tr th {\n",
       "        vertical-align: top;\n",
       "    }\n",
       "\n",
       "    .dataframe thead th {\n",
       "        text-align: right;\n",
       "    }\n",
       "</style>\n",
       "<table border=\"1\" class=\"dataframe\">\n",
       "  <thead>\n",
       "    <tr style=\"text-align: right;\">\n",
       "      <th></th>\n",
       "      <th>country</th>\n",
       "      <th>numrum</th>\n",
       "    </tr>\n",
       "  </thead>\n",
       "  <tbody>\n",
       "    <tr>\n",
       "      <th>0</th>\n",
       "      <td>Francia</td>\n",
       "      <td>5</td>\n",
       "    </tr>\n",
       "    <tr>\n",
       "      <th>1</th>\n",
       "      <td>Japón</td>\n",
       "      <td>2</td>\n",
       "    </tr>\n",
       "  </tbody>\n",
       "</table>\n",
       "</div>"
      ],
      "text/plain": [
       "   country  numrum\n",
       "0  Francia       5\n",
       "1    Japón       2"
      ]
     },
     "execution_count": 39,
     "metadata": {},
     "output_type": "execute_result"
    }
   ],
   "source": [
    "qry = '''\n",
    "SELECT country, SUM(number_of_rooms) as numrum\n",
    "FROM airbnb_listings\n",
    "GROUP BY country\n",
    "HAVING created_at < 2020;\n",
    "'''\n",
    "# para visualizar la salida, usaremos pandas\n",
    "df =pd.read_sql_query(qry, conn)\n",
    "\n",
    "df.head()"
   ]
  },
  {
   "cell_type": "code",
   "execution_count": 41,
   "id": "755f5b99",
   "metadata": {},
   "outputs": [
    {
     "data": {
      "text/html": [
       "<div>\n",
       "<style scoped>\n",
       "    .dataframe tbody tr th:only-of-type {\n",
       "        vertical-align: middle;\n",
       "    }\n",
       "\n",
       "    .dataframe tbody tr th {\n",
       "        vertical-align: top;\n",
       "    }\n",
       "\n",
       "    .dataframe thead th {\n",
       "        text-align: right;\n",
       "    }\n",
       "</style>\n",
       "<table border=\"1\" class=\"dataframe\">\n",
       "  <thead>\n",
       "    <tr style=\"text-align: right;\">\n",
       "      <th></th>\n",
       "      <th>country</th>\n",
       "      <th>avgroom</th>\n",
       "    </tr>\n",
       "  </thead>\n",
       "  <tbody>\n",
       "    <tr>\n",
       "      <th>0</th>\n",
       "      <td>España</td>\n",
       "      <td>3.0</td>\n",
       "    </tr>\n",
       "    <tr>\n",
       "      <th>1</th>\n",
       "      <td>Francia</td>\n",
       "      <td>5.0</td>\n",
       "    </tr>\n",
       "    <tr>\n",
       "      <th>2</th>\n",
       "      <td>Japón</td>\n",
       "      <td>2.0</td>\n",
       "    </tr>\n",
       "    <tr>\n",
       "      <th>3</th>\n",
       "      <td>USA</td>\n",
       "      <td>2.0</td>\n",
       "    </tr>\n",
       "  </tbody>\n",
       "</table>\n",
       "</div>"
      ],
      "text/plain": [
       "   country  avgroom\n",
       "0   España      3.0\n",
       "1  Francia      5.0\n",
       "2    Japón      2.0\n",
       "3      USA      2.0"
      ]
     },
     "execution_count": 41,
     "metadata": {},
     "output_type": "execute_result"
    }
   ],
   "source": [
    "qry = '''\n",
    "SELECT country, AVG(number_of_rooms) as avgroom\n",
    "FROM airbnb_listings\n",
    "GROUP BY country;\n",
    "'''\n",
    "# para visualizar la salida, usaremos pandas\n",
    "df =pd.read_sql_query(qry, conn)\n",
    "\n",
    "df.head()"
   ]
  },
  {
   "cell_type": "code",
   "execution_count": 42,
   "id": "5451a7f7",
   "metadata": {},
   "outputs": [
    {
     "data": {
      "text/html": [
       "<div>\n",
       "<style scoped>\n",
       "    .dataframe tbody tr th:only-of-type {\n",
       "        vertical-align: middle;\n",
       "    }\n",
       "\n",
       "    .dataframe tbody tr th {\n",
       "        vertical-align: top;\n",
       "    }\n",
       "\n",
       "    .dataframe thead th {\n",
       "        text-align: right;\n",
       "    }\n",
       "</style>\n",
       "<table border=\"1\" class=\"dataframe\">\n",
       "  <thead>\n",
       "    <tr style=\"text-align: right;\">\n",
       "      <th></th>\n",
       "      <th>country</th>\n",
       "      <th>MAXROOM</th>\n",
       "    </tr>\n",
       "  </thead>\n",
       "  <tbody>\n",
       "    <tr>\n",
       "      <th>0</th>\n",
       "      <td>España</td>\n",
       "      <td>3</td>\n",
       "    </tr>\n",
       "    <tr>\n",
       "      <th>1</th>\n",
       "      <td>Francia</td>\n",
       "      <td>5</td>\n",
       "    </tr>\n",
       "    <tr>\n",
       "      <th>2</th>\n",
       "      <td>Japón</td>\n",
       "      <td>2</td>\n",
       "    </tr>\n",
       "    <tr>\n",
       "      <th>3</th>\n",
       "      <td>USA</td>\n",
       "      <td>2</td>\n",
       "    </tr>\n",
       "  </tbody>\n",
       "</table>\n",
       "</div>"
      ],
      "text/plain": [
       "   country  MAXROOM\n",
       "0   España        3\n",
       "1  Francia        5\n",
       "2    Japón        2\n",
       "3      USA        2"
      ]
     },
     "execution_count": 42,
     "metadata": {},
     "output_type": "execute_result"
    }
   ],
   "source": [
    "qry = '''\n",
    "SELECT country, MAX(number_of_rooms) as MAXROOM\n",
    "FROM airbnb_listings\n",
    "GROUP BY country;\n",
    "'''\n",
    "# para visualizar la salida, usaremos pandas\n",
    "df =pd.read_sql_query(qry, conn)\n",
    "\n",
    "df.head()"
   ]
  },
  {
   "cell_type": "code",
   "execution_count": 43,
   "id": "bb2dbc92",
   "metadata": {},
   "outputs": [
    {
     "data": {
      "text/html": [
       "<div>\n",
       "<style scoped>\n",
       "    .dataframe tbody tr th:only-of-type {\n",
       "        vertical-align: middle;\n",
       "    }\n",
       "\n",
       "    .dataframe tbody tr th {\n",
       "        vertical-align: top;\n",
       "    }\n",
       "\n",
       "    .dataframe thead th {\n",
       "        text-align: right;\n",
       "    }\n",
       "</style>\n",
       "<table border=\"1\" class=\"dataframe\">\n",
       "  <thead>\n",
       "    <tr style=\"text-align: right;\">\n",
       "      <th></th>\n",
       "      <th>country</th>\n",
       "      <th>MINROOM</th>\n",
       "    </tr>\n",
       "  </thead>\n",
       "  <tbody>\n",
       "    <tr>\n",
       "      <th>0</th>\n",
       "      <td>España</td>\n",
       "      <td>3</td>\n",
       "    </tr>\n",
       "    <tr>\n",
       "      <th>1</th>\n",
       "      <td>Francia</td>\n",
       "      <td>5</td>\n",
       "    </tr>\n",
       "    <tr>\n",
       "      <th>2</th>\n",
       "      <td>Japón</td>\n",
       "      <td>2</td>\n",
       "    </tr>\n",
       "    <tr>\n",
       "      <th>3</th>\n",
       "      <td>USA</td>\n",
       "      <td>2</td>\n",
       "    </tr>\n",
       "  </tbody>\n",
       "</table>\n",
       "</div>"
      ],
      "text/plain": [
       "   country  MINROOM\n",
       "0   España        3\n",
       "1  Francia        5\n",
       "2    Japón        2\n",
       "3      USA        2"
      ]
     },
     "execution_count": 43,
     "metadata": {},
     "output_type": "execute_result"
    }
   ],
   "source": [
    "qry = '''\n",
    "SELECT country, MIN(number_of_rooms) as MINROOM\n",
    "FROM airbnb_listings\n",
    "GROUP BY country;\n",
    "'''\n",
    "# para visualizar la salida, usaremos pandas\n",
    "df =pd.read_sql_query(qry, conn)\n",
    "\n",
    "df.head()"
   ]
  },
  {
   "cell_type": "code",
   "execution_count": 44,
   "id": "fd37af95",
   "metadata": {},
   "outputs": [
    {
     "data": {
      "text/html": [
       "<div>\n",
       "<style scoped>\n",
       "    .dataframe tbody tr th:only-of-type {\n",
       "        vertical-align: middle;\n",
       "    }\n",
       "\n",
       "    .dataframe tbody tr th {\n",
       "        vertical-align: top;\n",
       "    }\n",
       "\n",
       "    .dataframe thead th {\n",
       "        text-align: right;\n",
       "    }\n",
       "</style>\n",
       "<table border=\"1\" class=\"dataframe\">\n",
       "  <thead>\n",
       "    <tr style=\"text-align: right;\">\n",
       "      <th></th>\n",
       "      <th>country</th>\n",
       "      <th>avg_rooms</th>\n",
       "    </tr>\n",
       "  </thead>\n",
       "  <tbody>\n",
       "    <tr>\n",
       "      <th>0</th>\n",
       "      <td>Japón</td>\n",
       "      <td>2.0</td>\n",
       "    </tr>\n",
       "    <tr>\n",
       "      <th>1</th>\n",
       "      <td>USA</td>\n",
       "      <td>2.0</td>\n",
       "    </tr>\n",
       "    <tr>\n",
       "      <th>2</th>\n",
       "      <td>España</td>\n",
       "      <td>3.0</td>\n",
       "    </tr>\n",
       "    <tr>\n",
       "      <th>3</th>\n",
       "      <td>Francia</td>\n",
       "      <td>5.0</td>\n",
       "    </tr>\n",
       "  </tbody>\n",
       "</table>\n",
       "</div>"
      ],
      "text/plain": [
       "   country  avg_rooms\n",
       "0    Japón        2.0\n",
       "1      USA        2.0\n",
       "2   España        3.0\n",
       "3  Francia        5.0"
      ]
     },
     "execution_count": 44,
     "metadata": {},
     "output_type": "execute_result"
    }
   ],
   "source": [
    "qry = '''\n",
    "SELECT country, AVG(number_of_rooms) AS avg_rooms\n",
    "FROM airbnb_listings\n",
    "GROUP BY country\n",
    "ORDER BY avg_rooms ASC\n",
    "'''\n",
    "# para visualizar la salida, usaremos pandas\n",
    "df =pd.read_sql_query(qry, conn)\n",
    "\n",
    "df.head()"
   ]
  },
  {
   "cell_type": "code",
   "execution_count": 45,
   "id": "b8a82059",
   "metadata": {},
   "outputs": [
    {
     "data": {
      "text/html": [
       "<div>\n",
       "<style scoped>\n",
       "    .dataframe tbody tr th:only-of-type {\n",
       "        vertical-align: middle;\n",
       "    }\n",
       "\n",
       "    .dataframe tbody tr th {\n",
       "        vertical-align: top;\n",
       "    }\n",
       "\n",
       "    .dataframe thead th {\n",
       "        text-align: right;\n",
       "    }\n",
       "</style>\n",
       "<table border=\"1\" class=\"dataframe\">\n",
       "  <thead>\n",
       "    <tr style=\"text-align: right;\">\n",
       "      <th></th>\n",
       "      <th>country</th>\n",
       "      <th>avg_rooms</th>\n",
       "    </tr>\n",
       "  </thead>\n",
       "  <tbody>\n",
       "    <tr>\n",
       "      <th>0</th>\n",
       "      <td>Japón</td>\n",
       "      <td>2.0</td>\n",
       "    </tr>\n",
       "    <tr>\n",
       "      <th>1</th>\n",
       "      <td>USA</td>\n",
       "      <td>2.0</td>\n",
       "    </tr>\n",
       "  </tbody>\n",
       "</table>\n",
       "</div>"
      ],
      "text/plain": [
       "  country  avg_rooms\n",
       "0   Japón        2.0\n",
       "1     USA        2.0"
      ]
     },
     "execution_count": 45,
     "metadata": {},
     "output_type": "execute_result"
    }
   ],
   "source": [
    "qry = '''\n",
    "SELECT country, AVG(number_of_rooms) AS avg_rooms\n",
    "FROM airbnb_listings\n",
    "WHERE country IN ('USA','Japón')\n",
    "GROUP BY country\n",
    "ORDER BY avg_rooms ASC;\n",
    "'''\n",
    "# para visualizar la salida, usaremos pandas\n",
    "df =pd.read_sql_query(qry, conn)\n",
    "\n",
    "df.head()"
   ]
  },
  {
   "cell_type": "code",
   "execution_count": 46,
   "id": "94a21e19",
   "metadata": {},
   "outputs": [
    {
     "data": {
      "text/html": [
       "<div>\n",
       "<style scoped>\n",
       "    .dataframe tbody tr th:only-of-type {\n",
       "        vertical-align: middle;\n",
       "    }\n",
       "\n",
       "    .dataframe tbody tr th {\n",
       "        vertical-align: top;\n",
       "    }\n",
       "\n",
       "    .dataframe thead th {\n",
       "        text-align: right;\n",
       "    }\n",
       "</style>\n",
       "<table border=\"1\" class=\"dataframe\">\n",
       "  <thead>\n",
       "    <tr style=\"text-align: right;\">\n",
       "      <th></th>\n",
       "      <th>country</th>\n",
       "      <th>number_cities</th>\n",
       "    </tr>\n",
       "  </thead>\n",
       "  <tbody>\n",
       "    <tr>\n",
       "      <th>0</th>\n",
       "      <td>España</td>\n",
       "      <td>1</td>\n",
       "    </tr>\n",
       "    <tr>\n",
       "      <th>1</th>\n",
       "      <td>Francia</td>\n",
       "      <td>1</td>\n",
       "    </tr>\n",
       "    <tr>\n",
       "      <th>2</th>\n",
       "      <td>Japón</td>\n",
       "      <td>1</td>\n",
       "    </tr>\n",
       "    <tr>\n",
       "      <th>3</th>\n",
       "      <td>USA</td>\n",
       "      <td>1</td>\n",
       "    </tr>\n",
       "  </tbody>\n",
       "</table>\n",
       "</div>"
      ],
      "text/plain": [
       "   country  number_cities\n",
       "0   España              1\n",
       "1  Francia              1\n",
       "2    Japón              1\n",
       "3      USA              1"
      ]
     },
     "execution_count": 46,
     "metadata": {},
     "output_type": "execute_result"
    }
   ],
   "source": [
    "qry = '''\n",
    "SELECT country, COUNT(city) AS number_cities\n",
    "FROM airbnb_listings\n",
    "GROUP BY country\n",
    "ORDER BY number_cities ASC;\n",
    "'''\n",
    "# para visualizar la salida, usaremos pandas\n",
    "df =pd.read_sql_query(qry, conn)\n",
    "\n",
    "df.head()"
   ]
  },
  {
   "cell_type": "markdown",
   "id": "1b82b388",
   "metadata": {},
   "source": [
    "HAVING similar WHERE pero siempre con agregaciones"
   ]
  },
  {
   "cell_type": "code",
   "execution_count": 47,
   "id": "43e72c06",
   "metadata": {},
   "outputs": [
    {
     "data": {
      "text/html": [
       "<div>\n",
       "<style scoped>\n",
       "    .dataframe tbody tr th:only-of-type {\n",
       "        vertical-align: middle;\n",
       "    }\n",
       "\n",
       "    .dataframe tbody tr th {\n",
       "        vertical-align: top;\n",
       "    }\n",
       "\n",
       "    .dataframe thead th {\n",
       "        text-align: right;\n",
       "    }\n",
       "</style>\n",
       "<table border=\"1\" class=\"dataframe\">\n",
       "  <thead>\n",
       "    <tr style=\"text-align: right;\">\n",
       "      <th></th>\n",
       "      <th>created_at</th>\n",
       "    </tr>\n",
       "  </thead>\n",
       "  <tbody>\n",
       "    <tr>\n",
       "      <th>0</th>\n",
       "      <td>2022</td>\n",
       "    </tr>\n",
       "  </tbody>\n",
       "</table>\n",
       "</div>"
      ],
      "text/plain": [
       "   created_at\n",
       "0        2022"
      ]
     },
     "execution_count": 47,
     "metadata": {},
     "output_type": "execute_result"
    }
   ],
   "source": [
    "qry = '''\n",
    "SELECT created_at\n",
    "FROM airbnb_listings\n",
    "GROUP BY created_at\n",
    "HAVING COUNT(id) >= 2;\n",
    "'''\n",
    "# para visualizar la salida, usaremos pandas\n",
    "df =pd.read_sql_query(qry, conn)\n",
    "\n",
    "df.head()"
   ]
  },
  {
   "cell_type": "markdown",
   "id": "06838123",
   "metadata": {},
   "source": [
    "JOINS"
   ]
  },
  {
   "cell_type": "markdown",
   "id": "5618be7b",
   "metadata": {},
   "source": [
    "(INNER) JOIN: Devuelve los registros que tienen valores que coinciden en ambas tablas.\n",
    "LEFT (OUTER) JOIN: Devuelve todos los registros de la tabla izquierda y los registros que coinciden con la tabla derecha.\n",
    "RIGHT (OUTER) JOIN: Devuelve todos los registros de la tabla derecha y los registros que coinciden con la tabla izquierda.\n",
    "FULL (OUTER) JOIN: Devuelve todos los registros cuando hay una coincidencia en la tabla izquierda o derecha."
   ]
  },
  {
   "cell_type": "code",
   "execution_count": 49,
   "id": "9f821d8c",
   "metadata": {},
   "outputs": [],
   "source": [
    "# creamos otra tabla\n",
    "conn.execute('''\n",
    "CREATE TABLE airbnb_rooms(\n",
    "\tid INT AUTO_INCREMENT UNIQUE PRIMARY KEY,\n",
    "  home_type VARCHAR(255) NOT NULL,\n",
    "  room_type VARCHAR(255) NOT NULL,\n",
    "\tnum_accomodates INT NOT NULL,\n",
    "  city VARCHAR(255) NOT NULL\n",
    ");''')\n",
    "\n",
    "conn.commit()"
   ]
  },
  {
   "cell_type": "code",
   "execution_count": 50,
   "id": "16ed0885",
   "metadata": {},
   "outputs": [],
   "source": [
    "# insertamos datos\n",
    "conn.execute('''\n",
    "INSERT INTO airbnb_rooms\n",
    "  (id, home_type, room_type, num_accomodates, city)\n",
    "  VALUES\n",
    "  (1,  \"Apartment\",         \"Entire\",        2,  \"Barcelona\"),\n",
    "  (2,  \"Apartment\",         \"Shared\",        3,  \"París\" ),\n",
    "  (3,  \"House\",             \"Shared\",        5,  \"Tokio\" ),\n",
    "  (4,  \"Bed and breakfast\", \"Private room\",  4,  \"Nueva York\"),\n",
    "  (5,  \"House\",             \"Shared\",        5,  \"Madrid\" ),\n",
    "  (6,  \"Apartment\",         \"Private room\",  7,  \"Berlín\" );''')\n",
    "conn.commit()"
   ]
  },
  {
   "cell_type": "code",
   "execution_count": null,
   "id": "b064663b",
   "metadata": {},
   "outputs": [],
   "source": [
    "# conn.execute('''\n",
    "# DROP TABLE airbnb_rooms;\n",
    "# ''')\n",
    "# conn.commit()"
   ]
  },
  {
   "cell_type": "code",
   "execution_count": 51,
   "id": "f49d9ffe",
   "metadata": {},
   "outputs": [
    {
     "data": {
      "text/html": [
       "<div>\n",
       "<style scoped>\n",
       "    .dataframe tbody tr th:only-of-type {\n",
       "        vertical-align: middle;\n",
       "    }\n",
       "\n",
       "    .dataframe tbody tr th {\n",
       "        vertical-align: top;\n",
       "    }\n",
       "\n",
       "    .dataframe thead th {\n",
       "        text-align: right;\n",
       "    }\n",
       "</style>\n",
       "<table border=\"1\" class=\"dataframe\">\n",
       "  <thead>\n",
       "    <tr style=\"text-align: right;\">\n",
       "      <th></th>\n",
       "      <th>id</th>\n",
       "      <th>home_type</th>\n",
       "      <th>room_type</th>\n",
       "      <th>num_accomodates</th>\n",
       "      <th>city</th>\n",
       "    </tr>\n",
       "  </thead>\n",
       "  <tbody>\n",
       "    <tr>\n",
       "      <th>0</th>\n",
       "      <td>1</td>\n",
       "      <td>Apartment</td>\n",
       "      <td>Entire</td>\n",
       "      <td>2</td>\n",
       "      <td>Barcelona</td>\n",
       "    </tr>\n",
       "    <tr>\n",
       "      <th>1</th>\n",
       "      <td>2</td>\n",
       "      <td>Apartment</td>\n",
       "      <td>Shared</td>\n",
       "      <td>3</td>\n",
       "      <td>París</td>\n",
       "    </tr>\n",
       "    <tr>\n",
       "      <th>2</th>\n",
       "      <td>3</td>\n",
       "      <td>House</td>\n",
       "      <td>Shared</td>\n",
       "      <td>5</td>\n",
       "      <td>Tokio</td>\n",
       "    </tr>\n",
       "    <tr>\n",
       "      <th>3</th>\n",
       "      <td>4</td>\n",
       "      <td>Bed and breakfast</td>\n",
       "      <td>Private room</td>\n",
       "      <td>4</td>\n",
       "      <td>Nueva York</td>\n",
       "    </tr>\n",
       "    <tr>\n",
       "      <th>4</th>\n",
       "      <td>5</td>\n",
       "      <td>House</td>\n",
       "      <td>Shared</td>\n",
       "      <td>5</td>\n",
       "      <td>Madrid</td>\n",
       "    </tr>\n",
       "    <tr>\n",
       "      <th>5</th>\n",
       "      <td>6</td>\n",
       "      <td>Apartment</td>\n",
       "      <td>Private room</td>\n",
       "      <td>7</td>\n",
       "      <td>Berlín</td>\n",
       "    </tr>\n",
       "  </tbody>\n",
       "</table>\n",
       "</div>"
      ],
      "text/plain": [
       "   id          home_type     room_type  num_accomodates        city\n",
       "0   1          Apartment        Entire                2   Barcelona\n",
       "1   2          Apartment        Shared                3       París\n",
       "2   3              House        Shared                5       Tokio\n",
       "3   4  Bed and breakfast  Private room                4  Nueva York\n",
       "4   5              House        Shared                5      Madrid\n",
       "5   6          Apartment  Private room                7      Berlín"
      ]
     },
     "execution_count": 51,
     "metadata": {},
     "output_type": "execute_result"
    }
   ],
   "source": [
    "# visualizamos la nueva tabla\n",
    "# creamos la query y la guardamos en la variable qry\n",
    "qry = '''\n",
    "SELECT *\n",
    "FROM airbnb_rooms;\n",
    "'''\n",
    "\n",
    "# para visualizar la salida, usaremos pandas\n",
    "df =pd.read_sql_query(qry, conn)\n",
    "\n",
    "df.head(10)"
   ]
  },
  {
   "cell_type": "code",
   "execution_count": 52,
   "id": "c7922c92",
   "metadata": {},
   "outputs": [],
   "source": [
    "## INNER JOIN"
   ]
  },
  {
   "cell_type": "code",
   "execution_count": 53,
   "id": "674b6ba4",
   "metadata": {},
   "outputs": [
    {
     "data": {
      "text/html": [
       "<div>\n",
       "<style scoped>\n",
       "    .dataframe tbody tr th:only-of-type {\n",
       "        vertical-align: middle;\n",
       "    }\n",
       "\n",
       "    .dataframe tbody tr th {\n",
       "        vertical-align: top;\n",
       "    }\n",
       "\n",
       "    .dataframe thead th {\n",
       "        text-align: right;\n",
       "    }\n",
       "</style>\n",
       "<table border=\"1\" class=\"dataframe\">\n",
       "  <thead>\n",
       "    <tr style=\"text-align: right;\">\n",
       "      <th></th>\n",
       "      <th>city</th>\n",
       "      <th>home_type</th>\n",
       "      <th>number_of_rooms</th>\n",
       "      <th>country</th>\n",
       "    </tr>\n",
       "  </thead>\n",
       "  <tbody>\n",
       "    <tr>\n",
       "      <th>0</th>\n",
       "      <td>París</td>\n",
       "      <td>Apartment</td>\n",
       "      <td>5</td>\n",
       "      <td>Francia</td>\n",
       "    </tr>\n",
       "    <tr>\n",
       "      <th>1</th>\n",
       "      <td>Tokio</td>\n",
       "      <td>House</td>\n",
       "      <td>2</td>\n",
       "      <td>Japón</td>\n",
       "    </tr>\n",
       "    <tr>\n",
       "      <th>2</th>\n",
       "      <td>Nueva York</td>\n",
       "      <td>Bed and breakfast</td>\n",
       "      <td>2</td>\n",
       "      <td>USA</td>\n",
       "    </tr>\n",
       "    <tr>\n",
       "      <th>3</th>\n",
       "      <td>Madrid</td>\n",
       "      <td>House</td>\n",
       "      <td>3</td>\n",
       "      <td>España</td>\n",
       "    </tr>\n",
       "  </tbody>\n",
       "</table>\n",
       "</div>"
      ],
      "text/plain": [
       "         city          home_type  number_of_rooms  country\n",
       "0       París          Apartment                5  Francia\n",
       "1       Tokio              House                2    Japón\n",
       "2  Nueva York  Bed and breakfast                2      USA\n",
       "3      Madrid              House                3   España"
      ]
     },
     "execution_count": 53,
     "metadata": {},
     "output_type": "execute_result"
    }
   ],
   "source": [
    "# inner join\n",
    "qry = '''\n",
    "SELECT airbnb_listings.city , airbnb_rooms.home_type, airbnb_listings.number_of_rooms, airbnb_listings.country\n",
    "FROM airbnb_listings\n",
    "INNER JOIN airbnb_rooms\n",
    "ON airbnb_listings.city=airbnb_rooms.city;\n",
    "'''\n",
    "\n",
    "# para visualizar la salida, usaremos pandas\n",
    "df =pd.read_sql_query(qry, conn)\n",
    "\n",
    "df.head(10)"
   ]
  },
  {
   "cell_type": "code",
   "execution_count": 54,
   "id": "8bd85fd4",
   "metadata": {},
   "outputs": [],
   "source": [
    "## LEFT JOIN"
   ]
  },
  {
   "cell_type": "code",
   "execution_count": 55,
   "id": "26086823",
   "metadata": {},
   "outputs": [
    {
     "data": {
      "text/html": [
       "<div>\n",
       "<style scoped>\n",
       "    .dataframe tbody tr th:only-of-type {\n",
       "        vertical-align: middle;\n",
       "    }\n",
       "\n",
       "    .dataframe tbody tr th {\n",
       "        vertical-align: top;\n",
       "    }\n",
       "\n",
       "    .dataframe thead th {\n",
       "        text-align: right;\n",
       "    }\n",
       "</style>\n",
       "<table border=\"1\" class=\"dataframe\">\n",
       "  <thead>\n",
       "    <tr style=\"text-align: right;\">\n",
       "      <th></th>\n",
       "      <th>city</th>\n",
       "      <th>home_type</th>\n",
       "      <th>number_of_rooms</th>\n",
       "      <th>country</th>\n",
       "    </tr>\n",
       "  </thead>\n",
       "  <tbody>\n",
       "    <tr>\n",
       "      <th>0</th>\n",
       "      <td>París</td>\n",
       "      <td>Apartment</td>\n",
       "      <td>5</td>\n",
       "      <td>Francia</td>\n",
       "    </tr>\n",
       "    <tr>\n",
       "      <th>1</th>\n",
       "      <td>Tokio</td>\n",
       "      <td>House</td>\n",
       "      <td>2</td>\n",
       "      <td>Japón</td>\n",
       "    </tr>\n",
       "    <tr>\n",
       "      <th>2</th>\n",
       "      <td>Nueva York</td>\n",
       "      <td>Bed and breakfast</td>\n",
       "      <td>2</td>\n",
       "      <td>USA</td>\n",
       "    </tr>\n",
       "    <tr>\n",
       "      <th>3</th>\n",
       "      <td>Madrid</td>\n",
       "      <td>House</td>\n",
       "      <td>3</td>\n",
       "      <td>España</td>\n",
       "    </tr>\n",
       "  </tbody>\n",
       "</table>\n",
       "</div>"
      ],
      "text/plain": [
       "         city          home_type  number_of_rooms  country\n",
       "0       París          Apartment                5  Francia\n",
       "1       Tokio              House                2    Japón\n",
       "2  Nueva York  Bed and breakfast                2      USA\n",
       "3      Madrid              House                3   España"
      ]
     },
     "execution_count": 55,
     "metadata": {},
     "output_type": "execute_result"
    }
   ],
   "source": [
    "# left join\n",
    "qry = '''\n",
    "SELECT airbnb_listings.city , airbnb_rooms.home_type, airbnb_listings.number_of_rooms, airbnb_listings.country\n",
    "FROM airbnb_listings\n",
    "LEFT JOIN airbnb_rooms\n",
    "ON airbnb_listings.city = airbnb_rooms.city;\n",
    "'''\n",
    "\n",
    "# para visualizar la salida, usaremos pandas\n",
    "df =pd.read_sql_query(qry, conn)\n",
    "\n",
    "df.head(10)"
   ]
  },
  {
   "cell_type": "code",
   "execution_count": 56,
   "id": "9017e02a",
   "metadata": {},
   "outputs": [],
   "source": [
    "## RIGHT JOIN"
   ]
  },
  {
   "cell_type": "code",
   "execution_count": 57,
   "id": "532d5d29",
   "metadata": {},
   "outputs": [
    {
     "data": {
      "text/html": [
       "<div>\n",
       "<style scoped>\n",
       "    .dataframe tbody tr th:only-of-type {\n",
       "        vertical-align: middle;\n",
       "    }\n",
       "\n",
       "    .dataframe tbody tr th {\n",
       "        vertical-align: top;\n",
       "    }\n",
       "\n",
       "    .dataframe thead th {\n",
       "        text-align: right;\n",
       "    }\n",
       "</style>\n",
       "<table border=\"1\" class=\"dataframe\">\n",
       "  <thead>\n",
       "    <tr style=\"text-align: right;\">\n",
       "      <th></th>\n",
       "      <th>city</th>\n",
       "      <th>home_type</th>\n",
       "      <th>number_of_rooms</th>\n",
       "      <th>country</th>\n",
       "    </tr>\n",
       "  </thead>\n",
       "  <tbody>\n",
       "    <tr>\n",
       "      <th>0</th>\n",
       "      <td>Barcelona</td>\n",
       "      <td>Apartment</td>\n",
       "      <td>NaN</td>\n",
       "      <td>None</td>\n",
       "    </tr>\n",
       "    <tr>\n",
       "      <th>1</th>\n",
       "      <td>París</td>\n",
       "      <td>Apartment</td>\n",
       "      <td>5.0</td>\n",
       "      <td>Francia</td>\n",
       "    </tr>\n",
       "    <tr>\n",
       "      <th>2</th>\n",
       "      <td>Tokio</td>\n",
       "      <td>House</td>\n",
       "      <td>2.0</td>\n",
       "      <td>Japón</td>\n",
       "    </tr>\n",
       "    <tr>\n",
       "      <th>3</th>\n",
       "      <td>Nueva York</td>\n",
       "      <td>Bed and breakfast</td>\n",
       "      <td>2.0</td>\n",
       "      <td>USA</td>\n",
       "    </tr>\n",
       "    <tr>\n",
       "      <th>4</th>\n",
       "      <td>Madrid</td>\n",
       "      <td>House</td>\n",
       "      <td>3.0</td>\n",
       "      <td>España</td>\n",
       "    </tr>\n",
       "    <tr>\n",
       "      <th>5</th>\n",
       "      <td>Berlín</td>\n",
       "      <td>Apartment</td>\n",
       "      <td>NaN</td>\n",
       "      <td>None</td>\n",
       "    </tr>\n",
       "  </tbody>\n",
       "</table>\n",
       "</div>"
      ],
      "text/plain": [
       "         city          home_type  number_of_rooms  country\n",
       "0   Barcelona          Apartment              NaN     None\n",
       "1       París          Apartment              5.0  Francia\n",
       "2       Tokio              House              2.0    Japón\n",
       "3  Nueva York  Bed and breakfast              2.0      USA\n",
       "4      Madrid              House              3.0   España\n",
       "5      Berlín          Apartment              NaN     None"
      ]
     },
     "execution_count": 57,
     "metadata": {},
     "output_type": "execute_result"
    }
   ],
   "source": [
    "# right join\n",
    "qry = '''\n",
    "SELECT airbnb_rooms.city , airbnb_rooms.home_type, airbnb_listings.number_of_rooms, airbnb_listings.country\n",
    "FROM airbnb_rooms\n",
    "LEFT JOIN airbnb_listings\n",
    "ON airbnb_listings.city=airbnb_rooms.city;\n",
    "'''\n",
    "\n",
    "# para visualizar la salida, usaremos pandas\n",
    "df =pd.read_sql_query(qry, conn)\n",
    "\n",
    "df.head(10)"
   ]
  },
  {
   "cell_type": "code",
   "execution_count": 58,
   "id": "15f112e7",
   "metadata": {},
   "outputs": [],
   "source": [
    "## full join"
   ]
  },
  {
   "cell_type": "code",
   "execution_count": 59,
   "id": "e7ed2b60",
   "metadata": {},
   "outputs": [
    {
     "data": {
      "text/html": [
       "<div>\n",
       "<style scoped>\n",
       "    .dataframe tbody tr th:only-of-type {\n",
       "        vertical-align: middle;\n",
       "    }\n",
       "\n",
       "    .dataframe tbody tr th {\n",
       "        vertical-align: top;\n",
       "    }\n",
       "\n",
       "    .dataframe thead th {\n",
       "        text-align: right;\n",
       "    }\n",
       "</style>\n",
       "<table border=\"1\" class=\"dataframe\">\n",
       "  <thead>\n",
       "    <tr style=\"text-align: right;\">\n",
       "      <th></th>\n",
       "      <th>city</th>\n",
       "      <th>home_type</th>\n",
       "      <th>number_of_rooms</th>\n",
       "      <th>country</th>\n",
       "    </tr>\n",
       "  </thead>\n",
       "  <tbody>\n",
       "    <tr>\n",
       "      <th>0</th>\n",
       "      <td>París</td>\n",
       "      <td>Apartment</td>\n",
       "      <td>5.0</td>\n",
       "      <td>Francia</td>\n",
       "    </tr>\n",
       "    <tr>\n",
       "      <th>1</th>\n",
       "      <td>Tokio</td>\n",
       "      <td>House</td>\n",
       "      <td>2.0</td>\n",
       "      <td>Japón</td>\n",
       "    </tr>\n",
       "    <tr>\n",
       "      <th>2</th>\n",
       "      <td>Nueva York</td>\n",
       "      <td>Bed and breakfast</td>\n",
       "      <td>2.0</td>\n",
       "      <td>USA</td>\n",
       "    </tr>\n",
       "    <tr>\n",
       "      <th>3</th>\n",
       "      <td>Madrid</td>\n",
       "      <td>House</td>\n",
       "      <td>3.0</td>\n",
       "      <td>España</td>\n",
       "    </tr>\n",
       "    <tr>\n",
       "      <th>4</th>\n",
       "      <td>None</td>\n",
       "      <td>Apartment</td>\n",
       "      <td>NaN</td>\n",
       "      <td>None</td>\n",
       "    </tr>\n",
       "    <tr>\n",
       "      <th>5</th>\n",
       "      <td>París</td>\n",
       "      <td>Apartment</td>\n",
       "      <td>5.0</td>\n",
       "      <td>Francia</td>\n",
       "    </tr>\n",
       "    <tr>\n",
       "      <th>6</th>\n",
       "      <td>Tokio</td>\n",
       "      <td>House</td>\n",
       "      <td>2.0</td>\n",
       "      <td>Japón</td>\n",
       "    </tr>\n",
       "    <tr>\n",
       "      <th>7</th>\n",
       "      <td>Nueva York</td>\n",
       "      <td>Bed and breakfast</td>\n",
       "      <td>2.0</td>\n",
       "      <td>USA</td>\n",
       "    </tr>\n",
       "    <tr>\n",
       "      <th>8</th>\n",
       "      <td>Madrid</td>\n",
       "      <td>House</td>\n",
       "      <td>3.0</td>\n",
       "      <td>España</td>\n",
       "    </tr>\n",
       "    <tr>\n",
       "      <th>9</th>\n",
       "      <td>None</td>\n",
       "      <td>Apartment</td>\n",
       "      <td>NaN</td>\n",
       "      <td>None</td>\n",
       "    </tr>\n",
       "  </tbody>\n",
       "</table>\n",
       "</div>"
      ],
      "text/plain": [
       "         city          home_type  number_of_rooms  country\n",
       "0       París          Apartment              5.0  Francia\n",
       "1       Tokio              House              2.0    Japón\n",
       "2  Nueva York  Bed and breakfast              2.0      USA\n",
       "3      Madrid              House              3.0   España\n",
       "4        None          Apartment              NaN     None\n",
       "5       París          Apartment              5.0  Francia\n",
       "6       Tokio              House              2.0    Japón\n",
       "7  Nueva York  Bed and breakfast              2.0      USA\n",
       "8      Madrid              House              3.0   España\n",
       "9        None          Apartment              NaN     None"
      ]
     },
     "execution_count": 59,
     "metadata": {},
     "output_type": "execute_result"
    }
   ],
   "source": [
    "# full join\n",
    "qry = '''\n",
    "SELECT airbnb_listings.city , airbnb_rooms.home_type, airbnb_listings.number_of_rooms, airbnb_listings.country\n",
    "FROM airbnb_listings\n",
    "LEFT JOIN airbnb_rooms\n",
    "ON airbnb_listings.city = airbnb_rooms.city\n",
    "UNION ALL\n",
    "SELECT airbnb_listings.city , airbnb_rooms.home_type, airbnb_listings.number_of_rooms, airbnb_listings.country\n",
    "FROM airbnb_rooms\n",
    "LEFT JOIN airbnb_listings\n",
    "ON airbnb_listings.city=airbnb_rooms.city;\n",
    "'''\n",
    "\n",
    "# para visualizar la salida, usaremos pandas\n",
    "df =pd.read_sql_query(qry, conn)\n",
    "\n",
    "df.head(10)"
   ]
  },
  {
   "cell_type": "markdown",
   "id": "e03a035f",
   "metadata": {},
   "source": [
    "CONSULTAS ANIDADAS"
   ]
  },
  {
   "cell_type": "markdown",
   "id": "deb57e97",
   "metadata": {},
   "source": [
    "Las consultas anidadas o subconsultas son dos o más consultas donde el resultado de una consulta se utiliza como parámetro para realizar la siguiente consulta."
   ]
  },
  {
   "cell_type": "code",
   "execution_count": 60,
   "id": "053cb62e",
   "metadata": {},
   "outputs": [
    {
     "data": {
      "text/html": [
       "<div>\n",
       "<style scoped>\n",
       "    .dataframe tbody tr th:only-of-type {\n",
       "        vertical-align: middle;\n",
       "    }\n",
       "\n",
       "    .dataframe tbody tr th {\n",
       "        vertical-align: top;\n",
       "    }\n",
       "\n",
       "    .dataframe thead th {\n",
       "        text-align: right;\n",
       "    }\n",
       "</style>\n",
       "<table border=\"1\" class=\"dataframe\">\n",
       "  <thead>\n",
       "    <tr style=\"text-align: right;\">\n",
       "      <th></th>\n",
       "      <th>id</th>\n",
       "      <th>home_type</th>\n",
       "      <th>room_type</th>\n",
       "      <th>num_accomodates</th>\n",
       "      <th>city</th>\n",
       "    </tr>\n",
       "  </thead>\n",
       "  <tbody>\n",
       "    <tr>\n",
       "      <th>0</th>\n",
       "      <td>2</td>\n",
       "      <td>Apartment</td>\n",
       "      <td>Shared</td>\n",
       "      <td>3</td>\n",
       "      <td>París</td>\n",
       "    </tr>\n",
       "    <tr>\n",
       "      <th>1</th>\n",
       "      <td>3</td>\n",
       "      <td>House</td>\n",
       "      <td>Shared</td>\n",
       "      <td>5</td>\n",
       "      <td>Tokio</td>\n",
       "    </tr>\n",
       "    <tr>\n",
       "      <th>2</th>\n",
       "      <td>4</td>\n",
       "      <td>Bed and breakfast</td>\n",
       "      <td>Private room</td>\n",
       "      <td>4</td>\n",
       "      <td>Nueva York</td>\n",
       "    </tr>\n",
       "    <tr>\n",
       "      <th>3</th>\n",
       "      <td>5</td>\n",
       "      <td>House</td>\n",
       "      <td>Shared</td>\n",
       "      <td>5</td>\n",
       "      <td>Madrid</td>\n",
       "    </tr>\n",
       "  </tbody>\n",
       "</table>\n",
       "</div>"
      ],
      "text/plain": [
       "   id          home_type     room_type  num_accomodates        city\n",
       "0   2          Apartment        Shared                3       París\n",
       "1   3              House        Shared                5       Tokio\n",
       "2   4  Bed and breakfast  Private room                4  Nueva York\n",
       "3   5              House        Shared                5      Madrid"
      ]
     },
     "execution_count": 60,
     "metadata": {},
     "output_type": "execute_result"
    }
   ],
   "source": [
    "# consultas anidadas\n",
    "qry = '''\n",
    "SELECT *\n",
    "FROM airbnb_rooms\n",
    "WHERE city IN (SELECT city FROM airbnb_listings);\n",
    "'''\n",
    "\n",
    "# para visualizar la salida, usaremos pandas\n",
    "df =pd.read_sql_query(qry, conn)\n",
    "\n",
    "df.head(10)"
   ]
  },
  {
   "cell_type": "markdown",
   "id": "49461053",
   "metadata": {},
   "source": [
    "PROYECTO EXPLICADO AIRBNB POR NODD3R "
   ]
  },
  {
   "cell_type": "markdown",
   "id": "f211d8aa",
   "metadata": {},
   "source": [
    "Rosana Longares"
   ]
  },
  {
   "cell_type": "code",
   "execution_count": null,
   "id": "97b0240b",
   "metadata": {},
   "outputs": [],
   "source": []
  }
 ],
 "metadata": {
  "kernelspec": {
   "display_name": "Python 3 (ipykernel)",
   "language": "python",
   "name": "python3"
  },
  "language_info": {
   "codemirror_mode": {
    "name": "ipython",
    "version": 3
   },
   "file_extension": ".py",
   "mimetype": "text/x-python",
   "name": "python",
   "nbconvert_exporter": "python",
   "pygments_lexer": "ipython3",
   "version": "3.8.6"
  }
 },
 "nbformat": 4,
 "nbformat_minor": 5
}
